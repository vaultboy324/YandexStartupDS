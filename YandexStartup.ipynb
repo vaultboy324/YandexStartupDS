{
 "cells": [
  {
   "cell_type": "markdown",
   "id": "2190d624-f374-4f66-899e-117ebfb4a4ac",
   "metadata": {},
   "source": [
    "# Модель машинного обучения для предсказания судьбы стартапов"
   ]
  },
  {
   "cell_type": "markdown",
   "id": "2f718caa-07ca-49fd-804a-03fa969c9265",
   "metadata": {},
   "source": [
    "## Описание задачи"
   ]
  },
  {
   "cell_type": "markdown",
   "id": "45bc7d74-0776-4d89-a531-c86703aa216d",
   "metadata": {},
   "source": [
    "Соревнование представляет собой увлекательный и практически важный опыт, ориентированный на студентов курса Data Science. Участникам предстоит работать с псевдо-реальными (реальные данные в которые добавлена синтетическая составляющая) данными о стартапах, функционировавших в период с 1970 по 2018 годы, и предсказать, какие из них закроются. Соревнование проводится на популярной платформе Kaggle, что позволяет участникам не только применять на практике свои знания в области анализа данных и машинного обучения, но и освоить работу с этой платформой."
   ]
  },
  {
   "cell_type": "markdown",
   "id": "f58a3ccf-45d9-43af-ae2e-804a0180d9f6",
   "metadata": {},
   "source": [
    "## Установка библиотек"
   ]
  },
  {
   "cell_type": "code",
   "execution_count": 1,
   "id": "3c9f7d70-9d26-4280-b6a9-8fda3f6eb90c",
   "metadata": {},
   "outputs": [
    {
     "name": "stdout",
     "output_type": "stream",
     "text": [
      "Requirement already satisfied: optuna in c:\\users\\vault\\anaconda3\\lib\\site-packages (4.0.0)\n",
      "Requirement already satisfied: alembic>=1.5.0 in c:\\users\\vault\\anaconda3\\lib\\site-packages (from optuna) (1.13.3)\n",
      "Requirement already satisfied: colorlog in c:\\users\\vault\\anaconda3\\lib\\site-packages (from optuna) (6.8.2)\n",
      "Requirement already satisfied: numpy in c:\\users\\vault\\anaconda3\\lib\\site-packages (from optuna) (1.26.4)\n",
      "Requirement already satisfied: packaging>=20.0 in c:\\users\\vault\\anaconda3\\lib\\site-packages (from optuna) (23.1)\n",
      "Requirement already satisfied: sqlalchemy>=1.3.0 in c:\\users\\vault\\anaconda3\\lib\\site-packages (from optuna) (2.0.25)\n",
      "Requirement already satisfied: tqdm in c:\\users\\vault\\anaconda3\\lib\\site-packages (from optuna) (4.65.0)\n",
      "Requirement already satisfied: PyYAML in c:\\users\\vault\\anaconda3\\lib\\site-packages (from optuna) (6.0.1)\n",
      "Requirement already satisfied: Mako in c:\\users\\vault\\anaconda3\\lib\\site-packages (from alembic>=1.5.0->optuna) (1.3.5)\n",
      "Requirement already satisfied: typing-extensions>=4 in c:\\users\\vault\\anaconda3\\lib\\site-packages (from alembic>=1.5.0->optuna) (4.9.0)\n",
      "Requirement already satisfied: greenlet!=0.4.17 in c:\\users\\vault\\anaconda3\\lib\\site-packages (from sqlalchemy>=1.3.0->optuna) (3.0.1)\n",
      "Requirement already satisfied: colorama in c:\\users\\vault\\anaconda3\\lib\\site-packages (from colorlog->optuna) (0.4.6)\n",
      "Requirement already satisfied: MarkupSafe>=0.9.2 in c:\\users\\vault\\anaconda3\\lib\\site-packages (from Mako->alembic>=1.5.0->optuna) (2.1.3)\n",
      "Requirement already satisfied: optuna-integration[sklearn] in c:\\users\\vault\\anaconda3\\lib\\site-packages (4.0.0)\n",
      "Requirement already satisfied: optuna in c:\\users\\vault\\anaconda3\\lib\\site-packages (from optuna-integration[sklearn]) (4.0.0)\n",
      "Requirement already satisfied: pandas in c:\\users\\vault\\anaconda3\\lib\\site-packages (from optuna-integration[sklearn]) (2.1.4)\n",
      "Requirement already satisfied: scikit-learn in c:\\users\\vault\\anaconda3\\lib\\site-packages (from optuna-integration[sklearn]) (1.2.2)\n",
      "Requirement already satisfied: scipy in c:\\users\\vault\\anaconda3\\lib\\site-packages (from optuna-integration[sklearn]) (1.11.4)\n",
      "Requirement already satisfied: alembic>=1.5.0 in c:\\users\\vault\\anaconda3\\lib\\site-packages (from optuna->optuna-integration[sklearn]) (1.13.3)\n",
      "Requirement already satisfied: colorlog in c:\\users\\vault\\anaconda3\\lib\\site-packages (from optuna->optuna-integration[sklearn]) (6.8.2)\n",
      "Requirement already satisfied: numpy in c:\\users\\vault\\anaconda3\\lib\\site-packages (from optuna->optuna-integration[sklearn]) (1.26.4)\n",
      "Requirement already satisfied: packaging>=20.0 in c:\\users\\vault\\anaconda3\\lib\\site-packages (from optuna->optuna-integration[sklearn]) (23.1)\n",
      "Requirement already satisfied: sqlalchemy>=1.3.0 in c:\\users\\vault\\anaconda3\\lib\\site-packages (from optuna->optuna-integration[sklearn]) (2.0.25)\n",
      "Requirement already satisfied: tqdm in c:\\users\\vault\\anaconda3\\lib\\site-packages (from optuna->optuna-integration[sklearn]) (4.65.0)\n",
      "Requirement already satisfied: PyYAML in c:\\users\\vault\\anaconda3\\lib\\site-packages (from optuna->optuna-integration[sklearn]) (6.0.1)\n",
      "Requirement already satisfied: python-dateutil>=2.8.2 in c:\\users\\vault\\anaconda3\\lib\\site-packages (from pandas->optuna-integration[sklearn]) (2.8.2)\n",
      "Requirement already satisfied: pytz>=2020.1 in c:\\users\\vault\\anaconda3\\lib\\site-packages (from pandas->optuna-integration[sklearn]) (2023.3.post1)\n",
      "Requirement already satisfied: tzdata>=2022.1 in c:\\users\\vault\\anaconda3\\lib\\site-packages (from pandas->optuna-integration[sklearn]) (2023.3)\n",
      "Requirement already satisfied: joblib>=1.1.1 in c:\\users\\vault\\anaconda3\\lib\\site-packages (from scikit-learn->optuna-integration[sklearn]) (1.2.0)\n",
      "Requirement already satisfied: threadpoolctl>=2.0.0 in c:\\users\\vault\\anaconda3\\lib\\site-packages (from scikit-learn->optuna-integration[sklearn]) (2.2.0)\n",
      "Requirement already satisfied: Mako in c:\\users\\vault\\anaconda3\\lib\\site-packages (from alembic>=1.5.0->optuna->optuna-integration[sklearn]) (1.3.5)\n",
      "Requirement already satisfied: typing-extensions>=4 in c:\\users\\vault\\anaconda3\\lib\\site-packages (from alembic>=1.5.0->optuna->optuna-integration[sklearn]) (4.9.0)\n",
      "Requirement already satisfied: six>=1.5 in c:\\users\\vault\\anaconda3\\lib\\site-packages (from python-dateutil>=2.8.2->pandas->optuna-integration[sklearn]) (1.16.0)\n",
      "Requirement already satisfied: greenlet!=0.4.17 in c:\\users\\vault\\anaconda3\\lib\\site-packages (from sqlalchemy>=1.3.0->optuna->optuna-integration[sklearn]) (3.0.1)\n",
      "Requirement already satisfied: colorama in c:\\users\\vault\\anaconda3\\lib\\site-packages (from colorlog->optuna->optuna-integration[sklearn]) (0.4.6)\n",
      "Requirement already satisfied: MarkupSafe>=0.9.2 in c:\\users\\vault\\anaconda3\\lib\\site-packages (from Mako->alembic>=1.5.0->optuna->optuna-integration[sklearn]) (2.1.3)\n",
      "Requirement already satisfied: shap in c:\\users\\vault\\anaconda3\\lib\\site-packages (0.46.0)\n",
      "Requirement already satisfied: numpy in c:\\users\\vault\\anaconda3\\lib\\site-packages (from shap) (1.26.4)\n",
      "Requirement already satisfied: scipy in c:\\users\\vault\\anaconda3\\lib\\site-packages (from shap) (1.11.4)\n",
      "Requirement already satisfied: scikit-learn in c:\\users\\vault\\anaconda3\\lib\\site-packages (from shap) (1.2.2)\n",
      "Requirement already satisfied: pandas in c:\\users\\vault\\anaconda3\\lib\\site-packages (from shap) (2.1.4)\n",
      "Requirement already satisfied: tqdm>=4.27.0 in c:\\users\\vault\\anaconda3\\lib\\site-packages (from shap) (4.65.0)\n",
      "Requirement already satisfied: packaging>20.9 in c:\\users\\vault\\anaconda3\\lib\\site-packages (from shap) (23.1)\n",
      "Requirement already satisfied: slicer==0.0.8 in c:\\users\\vault\\anaconda3\\lib\\site-packages (from shap) (0.0.8)\n",
      "Requirement already satisfied: numba in c:\\users\\vault\\anaconda3\\lib\\site-packages (from shap) (0.59.0)\n",
      "Requirement already satisfied: cloudpickle in c:\\users\\vault\\anaconda3\\lib\\site-packages (from shap) (2.2.1)\n",
      "Requirement already satisfied: colorama in c:\\users\\vault\\anaconda3\\lib\\site-packages (from tqdm>=4.27.0->shap) (0.4.6)\n",
      "Requirement already satisfied: llvmlite<0.43,>=0.42.0dev0 in c:\\users\\vault\\anaconda3\\lib\\site-packages (from numba->shap) (0.42.0)\n",
      "Requirement already satisfied: python-dateutil>=2.8.2 in c:\\users\\vault\\anaconda3\\lib\\site-packages (from pandas->shap) (2.8.2)\n",
      "Requirement already satisfied: pytz>=2020.1 in c:\\users\\vault\\anaconda3\\lib\\site-packages (from pandas->shap) (2023.3.post1)\n",
      "Requirement already satisfied: tzdata>=2022.1 in c:\\users\\vault\\anaconda3\\lib\\site-packages (from pandas->shap) (2023.3)\n",
      "Requirement already satisfied: joblib>=1.1.1 in c:\\users\\vault\\anaconda3\\lib\\site-packages (from scikit-learn->shap) (1.2.0)\n",
      "Requirement already satisfied: threadpoolctl>=2.0.0 in c:\\users\\vault\\anaconda3\\lib\\site-packages (from scikit-learn->shap) (2.2.0)\n",
      "Requirement already satisfied: six>=1.5 in c:\\users\\vault\\anaconda3\\lib\\site-packages (from python-dateutil>=2.8.2->pandas->shap) (1.16.0)\n",
      "Requirement already satisfied: phik in c:\\users\\vault\\anaconda3\\lib\\site-packages (0.12.4)\n",
      "Requirement already satisfied: numpy>=1.18.0 in c:\\users\\vault\\anaconda3\\lib\\site-packages (from phik) (1.26.4)\n",
      "Requirement already satisfied: scipy>=1.5.2 in c:\\users\\vault\\anaconda3\\lib\\site-packages (from phik) (1.11.4)\n",
      "Requirement already satisfied: pandas>=0.25.1 in c:\\users\\vault\\anaconda3\\lib\\site-packages (from phik) (2.1.4)\n",
      "Requirement already satisfied: matplotlib>=2.2.3 in c:\\users\\vault\\anaconda3\\lib\\site-packages (from phik) (3.8.0)\n",
      "Requirement already satisfied: joblib>=0.14.1 in c:\\users\\vault\\anaconda3\\lib\\site-packages (from phik) (1.2.0)\n",
      "Requirement already satisfied: contourpy>=1.0.1 in c:\\users\\vault\\anaconda3\\lib\\site-packages (from matplotlib>=2.2.3->phik) (1.2.0)\n",
      "Requirement already satisfied: cycler>=0.10 in c:\\users\\vault\\anaconda3\\lib\\site-packages (from matplotlib>=2.2.3->phik) (0.11.0)\n",
      "Requirement already satisfied: fonttools>=4.22.0 in c:\\users\\vault\\anaconda3\\lib\\site-packages (from matplotlib>=2.2.3->phik) (4.25.0)\n",
      "Requirement already satisfied: kiwisolver>=1.0.1 in c:\\users\\vault\\anaconda3\\lib\\site-packages (from matplotlib>=2.2.3->phik) (1.4.4)\n",
      "Requirement already satisfied: packaging>=20.0 in c:\\users\\vault\\anaconda3\\lib\\site-packages (from matplotlib>=2.2.3->phik) (23.1)\n",
      "Requirement already satisfied: pillow>=6.2.0 in c:\\users\\vault\\anaconda3\\lib\\site-packages (from matplotlib>=2.2.3->phik) (10.2.0)\n",
      "Requirement already satisfied: pyparsing>=2.3.1 in c:\\users\\vault\\anaconda3\\lib\\site-packages (from matplotlib>=2.2.3->phik) (3.0.9)\n",
      "Requirement already satisfied: python-dateutil>=2.7 in c:\\users\\vault\\anaconda3\\lib\\site-packages (from matplotlib>=2.2.3->phik) (2.8.2)\n",
      "Requirement already satisfied: pytz>=2020.1 in c:\\users\\vault\\anaconda3\\lib\\site-packages (from pandas>=0.25.1->phik) (2023.3.post1)\n",
      "Requirement already satisfied: tzdata>=2022.1 in c:\\users\\vault\\anaconda3\\lib\\site-packages (from pandas>=0.25.1->phik) (2023.3)\n",
      "Requirement already satisfied: six>=1.5 in c:\\users\\vault\\anaconda3\\lib\\site-packages (from python-dateutil>=2.7->matplotlib>=2.2.3->phik) (1.16.0)\n"
     ]
    }
   ],
   "source": [
    "!pip install optuna\n",
    "!pip install optuna-integration[sklearn]\n",
    "!pip install shap\n",
    "!pip install phik"
   ]
  },
  {
   "cell_type": "markdown",
   "id": "c17709f2-37cc-4778-b9c2-95d49031ae9b",
   "metadata": {},
   "source": [
    "## Подключение библиотек"
   ]
  },
  {
   "cell_type": "code",
   "execution_count": 2,
   "id": "ba7756a6-3f61-4d6e-872d-f0af1010e6dd",
   "metadata": {},
   "outputs": [],
   "source": [
    "from datetime import date\n",
    "\n",
    "import numpy as np\n",
    "import pandas as pd\n",
    "\n",
    "import phik\n",
    "\n",
    "import seaborn as sns\n",
    "import matplotlib.pyplot as plt\n",
    "\n",
    "from sklearn.preprocessing import LabelEncoder, OrdinalEncoder, StandardScaler, MinMaxScaler\n",
    "from sklearn.impute import SimpleImputer \n",
    "\n",
    "from sklearn.pipeline import Pipeline\n",
    "from sklearn.compose import ColumnTransformer\n",
    "\n",
    "from sklearn.linear_model import LogisticRegression\n",
    "from sklearn.neighbors import KNeighborsClassifier\n",
    "from sklearn.tree import DecisionTreeClassifier\n",
    "from sklearn.svm import SVC\n",
    "from sklearn.dummy import DummyClassifier\n",
    "from sklearn.ensemble import GradientBoostingClassifier, RandomForestClassifier\n",
    "\n",
    "from sklearn.model_selection import RandomizedSearchCV\n",
    "from optuna.integration import OptunaSearchCV\n",
    "\n",
    "from optuna import distributions"
   ]
  },
  {
   "cell_type": "markdown",
   "id": "bcf14142-7717-496b-b0f4-d3e70f328c48",
   "metadata": {},
   "source": [
    "## Загрузка данных"
   ]
  },
  {
   "cell_type": "code",
   "execution_count": 3,
   "id": "81b3af51-b4b1-416a-ad04-307e78a3eda6",
   "metadata": {},
   "outputs": [
    {
     "name": "stdout",
     "output_type": "stream",
     "text": [
      "<class 'pandas.core.frame.DataFrame'>\n",
      "RangeIndex: 52516 entries, 0 to 52515\n",
      "Data columns (total 13 columns):\n",
      " #   Column             Non-Null Count  Dtype  \n",
      "---  ------             --------------  -----  \n",
      " 0   name               52515 non-null  object \n",
      " 1   category_list      50051 non-null  object \n",
      " 2   funding_total_usd  42447 non-null  float64\n",
      " 3   status             52516 non-null  object \n",
      " 4   country_code       47014 non-null  object \n",
      " 5   state_code         45753 non-null  object \n",
      " 6   region             46157 non-null  object \n",
      " 7   city               46157 non-null  object \n",
      " 8   funding_rounds     52516 non-null  int64  \n",
      " 9   founded_at         52516 non-null  object \n",
      " 10  first_funding_at   52516 non-null  object \n",
      " 11  last_funding_at    52516 non-null  object \n",
      " 12  closed_at          4917 non-null   object \n",
      "dtypes: float64(1), int64(1), object(11)\n",
      "memory usage: 5.2+ MB\n"
     ]
    }
   ],
   "source": [
    "directory_name = '/Users/vault/Documents/YandexStartup'\n",
    "\n",
    "train_data = pd.read_csv(f'{directory_name}/train.csv')\n",
    "train_data.info()"
   ]
  },
  {
   "cell_type": "code",
   "execution_count": 4,
   "id": "28d21247-0c3c-42ec-abf8-96761f31bb19",
   "metadata": {},
   "outputs": [
    {
     "name": "stdout",
     "output_type": "stream",
     "text": [
      "<class 'pandas.core.frame.DataFrame'>\n",
      "RangeIndex: 13125 entries, 0 to 13124\n",
      "Data columns (total 11 columns):\n",
      " #   Column             Non-Null Count  Dtype  \n",
      "---  ------             --------------  -----  \n",
      " 0   name               13125 non-null  object \n",
      " 1   category_list      12534 non-null  object \n",
      " 2   funding_total_usd  10547 non-null  float64\n",
      " 3   country_code       11743 non-null  object \n",
      " 4   state_code         11430 non-null  object \n",
      " 5   region             11536 non-null  object \n",
      " 6   city               11538 non-null  object \n",
      " 7   funding_rounds     13125 non-null  int64  \n",
      " 8   first_funding_at   13125 non-null  object \n",
      " 9   last_funding_at    13125 non-null  object \n",
      " 10  lifetime           13125 non-null  int64  \n",
      "dtypes: float64(1), int64(2), object(8)\n",
      "memory usage: 1.1+ MB\n"
     ]
    }
   ],
   "source": [
    "test_data = pd.read_csv(f'{directory_name}/test.csv')\n",
    "test_data.info()"
   ]
  },
  {
   "cell_type": "markdown",
   "id": "8d315475-deca-4d25-8cda-261eaf0caf7a",
   "metadata": {},
   "source": [
    "## Предобработка данных"
   ]
  },
  {
   "cell_type": "markdown",
   "id": "f690cf95-9d56-4db5-b4f3-b06941b75608",
   "metadata": {},
   "source": [
    "Необходимо все даты привести к типу дата, а также заполнить пропуски в столбце funding_total_usd "
   ]
  },
  {
   "cell_type": "code",
   "execution_count": 5,
   "id": "8d2db331-b9b9-4e72-a192-52b277507895",
   "metadata": {},
   "outputs": [],
   "source": [
    "def data_preprocessing(df: pd.DataFrame) -> pd.DataFrame:\n",
    "    df['first_funding_at'] = pd.to_datetime(df['first_funding_at'])\n",
    "    df['last_funding_at'] = pd.to_datetime(df['last_funding_at'])\n",
    "    df['funding_total_usd'] = df['funding_total_usd'].fillna(0)\n",
    "    if not 'lifetime' in df.columns:\n",
    "        df['closed_at'] = df['closed_at'].fillna(value=date(2018, 1, 1))\n",
    "        df['closed_at'] = pd.to_datetime(df['closed_at'])\n",
    "        df['founded_at'] = pd.to_datetime(df['founded_at'])\n",
    "        df['lifetime'] = df['closed_at'].subtract(df['founded_at']).dt.days.astype(int)\n",
    "    return df"
   ]
  },
  {
   "cell_type": "code",
   "execution_count": 6,
   "id": "4ead511f-810b-463b-a66b-9365045a9b37",
   "metadata": {},
   "outputs": [
    {
     "name": "stdout",
     "output_type": "stream",
     "text": [
      "<class 'pandas.core.frame.DataFrame'>\n",
      "RangeIndex: 52516 entries, 0 to 52515\n",
      "Data columns (total 14 columns):\n",
      " #   Column             Non-Null Count  Dtype         \n",
      "---  ------             --------------  -----         \n",
      " 0   name               52515 non-null  object        \n",
      " 1   category_list      50051 non-null  object        \n",
      " 2   funding_total_usd  52516 non-null  float64       \n",
      " 3   status             52516 non-null  object        \n",
      " 4   country_code       47014 non-null  object        \n",
      " 5   state_code         45753 non-null  object        \n",
      " 6   region             46157 non-null  object        \n",
      " 7   city               46157 non-null  object        \n",
      " 8   funding_rounds     52516 non-null  int64         \n",
      " 9   founded_at         52516 non-null  datetime64[ns]\n",
      " 10  first_funding_at   52516 non-null  datetime64[ns]\n",
      " 11  last_funding_at    52516 non-null  datetime64[ns]\n",
      " 12  closed_at          52516 non-null  datetime64[ns]\n",
      " 13  lifetime           52516 non-null  int32         \n",
      "dtypes: datetime64[ns](4), float64(1), int32(1), int64(1), object(7)\n",
      "memory usage: 5.4+ MB\n"
     ]
    }
   ],
   "source": [
    "train_data = data_preprocessing(train_data)\n",
    "train_data.info()"
   ]
  },
  {
   "cell_type": "markdown",
   "id": "e9c6dc49-e49c-4448-8b7c-bc4b480af0e0",
   "metadata": {},
   "source": [
    "## Разработка новых признаков"
   ]
  },
  {
   "cell_type": "markdown",
   "id": "581ff92a-3419-490a-aeef-aace6b56500c",
   "metadata": {},
   "source": [
    "Было принято решение выделить следующие новые признаки: \n",
    "1) год основания\n",
    "2) год первого раунда\n",
    "3) год последнего раунда\n",
    "4) средний размер инвестиций за раунд\n",
    "5) главная категория"
   ]
  },
  {
   "cell_type": "code",
   "execution_count": 7,
   "id": "c50c89d9-a738-46ec-88fb-a5712e0967d5",
   "metadata": {},
   "outputs": [],
   "source": [
    "def calc_new_features(df: pd.DataFrame) -> pd.DataFrame:\n",
    "    df['funding_per_round'] = df['funding_total_usd'] / df['funding_rounds']\n",
    "    df['first_funding_at_year'] = df['first_funding_at'].dt.year\n",
    "    df['last_funding_at_year'] = df['last_funding_at'].dt.year\n",
    "    df['main_category'] = df['category_list'].str.replace(' ', '').str.split('|').str[0]\n",
    "    return df"
   ]
  },
  {
   "cell_type": "code",
   "execution_count": 8,
   "id": "cd60cc3a-4ee0-4a8d-be42-299b8141f17a",
   "metadata": {},
   "outputs": [
    {
     "name": "stdout",
     "output_type": "stream",
     "text": [
      "<class 'pandas.core.frame.DataFrame'>\n",
      "RangeIndex: 52516 entries, 0 to 52515\n",
      "Data columns (total 18 columns):\n",
      " #   Column                 Non-Null Count  Dtype         \n",
      "---  ------                 --------------  -----         \n",
      " 0   name                   52515 non-null  object        \n",
      " 1   category_list          50051 non-null  object        \n",
      " 2   funding_total_usd      52516 non-null  float64       \n",
      " 3   status                 52516 non-null  object        \n",
      " 4   country_code           47014 non-null  object        \n",
      " 5   state_code             45753 non-null  object        \n",
      " 6   region                 46157 non-null  object        \n",
      " 7   city                   46157 non-null  object        \n",
      " 8   funding_rounds         52516 non-null  int64         \n",
      " 9   founded_at             52516 non-null  datetime64[ns]\n",
      " 10  first_funding_at       52516 non-null  datetime64[ns]\n",
      " 11  last_funding_at        52516 non-null  datetime64[ns]\n",
      " 12  closed_at              52516 non-null  datetime64[ns]\n",
      " 13  lifetime               52516 non-null  int32         \n",
      " 14  funding_per_round      52516 non-null  float64       \n",
      " 15  first_funding_at_year  52516 non-null  int32         \n",
      " 16  last_funding_at_year   52516 non-null  int32         \n",
      " 17  main_category          50051 non-null  object        \n",
      "dtypes: datetime64[ns](4), float64(2), int32(3), int64(1), object(8)\n",
      "memory usage: 6.6+ MB\n"
     ]
    }
   ],
   "source": [
    "train_data = calc_new_features(train_data)\n",
    "train_data.info()"
   ]
  },
  {
   "cell_type": "code",
   "execution_count": 9,
   "id": "a45f9395-aa2d-4b9c-b11b-a4752bc06a86",
   "metadata": {},
   "outputs": [
    {
     "data": {
      "text/html": [
       "<div>\n",
       "<style scoped>\n",
       "    .dataframe tbody tr th:only-of-type {\n",
       "        vertical-align: middle;\n",
       "    }\n",
       "\n",
       "    .dataframe tbody tr th {\n",
       "        vertical-align: top;\n",
       "    }\n",
       "\n",
       "    .dataframe thead th {\n",
       "        text-align: right;\n",
       "    }\n",
       "</style>\n",
       "<table border=\"1\" class=\"dataframe\">\n",
       "  <thead>\n",
       "    <tr style=\"text-align: right;\">\n",
       "      <th></th>\n",
       "      <th>funding_total_usd</th>\n",
       "      <th>funding_rounds</th>\n",
       "      <th>founded_at</th>\n",
       "      <th>first_funding_at</th>\n",
       "      <th>last_funding_at</th>\n",
       "      <th>closed_at</th>\n",
       "      <th>lifetime</th>\n",
       "      <th>funding_per_round</th>\n",
       "      <th>first_funding_at_year</th>\n",
       "      <th>last_funding_at_year</th>\n",
       "    </tr>\n",
       "  </thead>\n",
       "  <tbody>\n",
       "    <tr>\n",
       "      <th>count</th>\n",
       "      <td>5.251600e+04</td>\n",
       "      <td>52516.000000</td>\n",
       "      <td>52516</td>\n",
       "      <td>52516</td>\n",
       "      <td>52516</td>\n",
       "      <td>52516</td>\n",
       "      <td>52516.000000</td>\n",
       "      <td>5.251600e+04</td>\n",
       "      <td>52516.000000</td>\n",
       "      <td>52516.000000</td>\n",
       "    </tr>\n",
       "    <tr>\n",
       "      <th>mean</th>\n",
       "      <td>1.474885e+07</td>\n",
       "      <td>1.740670</td>\n",
       "      <td>2008-11-04 09:44:16.196206848</td>\n",
       "      <td>2011-07-17 04:45:33.247010304</td>\n",
       "      <td>2012-06-27 16:29:42.313961472</td>\n",
       "      <td>2017-06-11 05:36:46.504684032</td>\n",
       "      <td>3140.828129</td>\n",
       "      <td>7.205211e+06</td>\n",
       "      <td>2011.075691</td>\n",
       "      <td>2012.012491</td>\n",
       "    </tr>\n",
       "    <tr>\n",
       "      <th>min</th>\n",
       "      <td>0.000000e+00</td>\n",
       "      <td>1.000000</td>\n",
       "      <td>1970-02-05 00:00:00</td>\n",
       "      <td>1977-05-15 00:00:00</td>\n",
       "      <td>1977-05-15 00:00:00</td>\n",
       "      <td>1983-10-06 00:00:00</td>\n",
       "      <td>19.000000</td>\n",
       "      <td>0.000000e+00</td>\n",
       "      <td>1977.000000</td>\n",
       "      <td>1977.000000</td>\n",
       "    </tr>\n",
       "    <tr>\n",
       "      <th>25%</th>\n",
       "      <td>4.000000e+04</td>\n",
       "      <td>1.000000</td>\n",
       "      <td>2006-10-01 00:00:00</td>\n",
       "      <td>2009-10-12 00:00:00</td>\n",
       "      <td>2011-02-01 00:00:00</td>\n",
       "      <td>2018-01-01 00:00:00</td>\n",
       "      <td>1739.000000</td>\n",
       "      <td>4.000000e+04</td>\n",
       "      <td>2009.000000</td>\n",
       "      <td>2011.000000</td>\n",
       "    </tr>\n",
       "    <tr>\n",
       "      <th>50%</th>\n",
       "      <td>1.000000e+06</td>\n",
       "      <td>1.000000</td>\n",
       "      <td>2010-10-01 00:00:00</td>\n",
       "      <td>2012-07-23 00:00:00</td>\n",
       "      <td>2013-08-30 00:00:00</td>\n",
       "      <td>2018-01-01 00:00:00</td>\n",
       "      <td>2557.000000</td>\n",
       "      <td>6.500000e+05</td>\n",
       "      <td>2012.000000</td>\n",
       "      <td>2013.000000</td>\n",
       "    </tr>\n",
       "    <tr>\n",
       "      <th>75%</th>\n",
       "      <td>6.788929e+06</td>\n",
       "      <td>2.000000</td>\n",
       "      <td>2013-01-01 00:00:00</td>\n",
       "      <td>2014-04-01 00:00:00</td>\n",
       "      <td>2014-11-17 00:00:00</td>\n",
       "      <td>2018-01-01 00:00:00</td>\n",
       "      <td>4018.000000</td>\n",
       "      <td>4.000000e+06</td>\n",
       "      <td>2014.000000</td>\n",
       "      <td>2014.000000</td>\n",
       "    </tr>\n",
       "    <tr>\n",
       "      <th>max</th>\n",
       "      <td>3.007950e+10</td>\n",
       "      <td>19.000000</td>\n",
       "      <td>2016-04-02 00:00:00</td>\n",
       "      <td>2015-12-05 00:00:00</td>\n",
       "      <td>2015-12-07 00:00:00</td>\n",
       "      <td>2018-01-01 00:00:00</td>\n",
       "      <td>17378.000000</td>\n",
       "      <td>1.066494e+10</td>\n",
       "      <td>2015.000000</td>\n",
       "      <td>2015.000000</td>\n",
       "    </tr>\n",
       "    <tr>\n",
       "      <th>std</th>\n",
       "      <td>1.683783e+08</td>\n",
       "      <td>1.374522</td>\n",
       "      <td>NaN</td>\n",
       "      <td>NaN</td>\n",
       "      <td>NaN</td>\n",
       "      <td>NaN</td>\n",
       "      <td>2147.821070</td>\n",
       "      <td>7.642925e+07</td>\n",
       "      <td>3.613547</td>\n",
       "      <td>3.336599</td>\n",
       "    </tr>\n",
       "  </tbody>\n",
       "</table>\n",
       "</div>"
      ],
      "text/plain": [
       "       funding_total_usd  funding_rounds                     founded_at  \\\n",
       "count       5.251600e+04    52516.000000                          52516   \n",
       "mean        1.474885e+07        1.740670  2008-11-04 09:44:16.196206848   \n",
       "min         0.000000e+00        1.000000            1970-02-05 00:00:00   \n",
       "25%         4.000000e+04        1.000000            2006-10-01 00:00:00   \n",
       "50%         1.000000e+06        1.000000            2010-10-01 00:00:00   \n",
       "75%         6.788929e+06        2.000000            2013-01-01 00:00:00   \n",
       "max         3.007950e+10       19.000000            2016-04-02 00:00:00   \n",
       "std         1.683783e+08        1.374522                            NaN   \n",
       "\n",
       "                    first_funding_at                last_funding_at  \\\n",
       "count                          52516                          52516   \n",
       "mean   2011-07-17 04:45:33.247010304  2012-06-27 16:29:42.313961472   \n",
       "min              1977-05-15 00:00:00            1977-05-15 00:00:00   \n",
       "25%              2009-10-12 00:00:00            2011-02-01 00:00:00   \n",
       "50%              2012-07-23 00:00:00            2013-08-30 00:00:00   \n",
       "75%              2014-04-01 00:00:00            2014-11-17 00:00:00   \n",
       "max              2015-12-05 00:00:00            2015-12-07 00:00:00   \n",
       "std                              NaN                            NaN   \n",
       "\n",
       "                           closed_at      lifetime  funding_per_round  \\\n",
       "count                          52516  52516.000000       5.251600e+04   \n",
       "mean   2017-06-11 05:36:46.504684032   3140.828129       7.205211e+06   \n",
       "min              1983-10-06 00:00:00     19.000000       0.000000e+00   \n",
       "25%              2018-01-01 00:00:00   1739.000000       4.000000e+04   \n",
       "50%              2018-01-01 00:00:00   2557.000000       6.500000e+05   \n",
       "75%              2018-01-01 00:00:00   4018.000000       4.000000e+06   \n",
       "max              2018-01-01 00:00:00  17378.000000       1.066494e+10   \n",
       "std                              NaN   2147.821070       7.642925e+07   \n",
       "\n",
       "       first_funding_at_year  last_funding_at_year  \n",
       "count           52516.000000          52516.000000  \n",
       "mean             2011.075691           2012.012491  \n",
       "min              1977.000000           1977.000000  \n",
       "25%              2009.000000           2011.000000  \n",
       "50%              2012.000000           2013.000000  \n",
       "75%              2014.000000           2014.000000  \n",
       "max              2015.000000           2015.000000  \n",
       "std                 3.613547              3.336599  "
      ]
     },
     "execution_count": 9,
     "metadata": {},
     "output_type": "execute_result"
    }
   ],
   "source": [
    "train_data.describe()"
   ]
  },
  {
   "cell_type": "code",
   "execution_count": 10,
   "id": "f9fbeefe-de96-4b55-b127-2598a613b298",
   "metadata": {},
   "outputs": [
    {
     "name": "stderr",
     "output_type": "stream",
     "text": [
      "C:\\Users\\vault\\anaconda3\\Lib\\site-packages\\phik\\data_quality.py:59: UserWarning: The number of unique values of variable city is large: 4477. Are you sure this is not an interval variable? Analysis for pairs of variables including city can be slow.\n",
      "  warnings.warn(\n",
      "C:\\Users\\vault\\anaconda3\\Lib\\site-packages\\phik\\data_quality.py:59: UserWarning: The number of unique values of variable region is large: 1036. Are you sure this is not an interval variable? Analysis for pairs of variables including region can be slow.\n",
      "  warnings.warn(\n"
     ]
    },
    {
     "data": {
      "text/html": [
       "<div>\n",
       "<style scoped>\n",
       "    .dataframe tbody tr th:only-of-type {\n",
       "        vertical-align: middle;\n",
       "    }\n",
       "\n",
       "    .dataframe tbody tr th {\n",
       "        vertical-align: top;\n",
       "    }\n",
       "\n",
       "    .dataframe thead th {\n",
       "        text-align: right;\n",
       "    }\n",
       "</style>\n",
       "<table border=\"1\" class=\"dataframe\">\n",
       "  <thead>\n",
       "    <tr style=\"text-align: right;\">\n",
       "      <th></th>\n",
       "      <th>funding_total_usd</th>\n",
       "      <th>status</th>\n",
       "      <th>country_code</th>\n",
       "      <th>state_code</th>\n",
       "      <th>region</th>\n",
       "      <th>city</th>\n",
       "      <th>funding_rounds</th>\n",
       "      <th>lifetime</th>\n",
       "      <th>funding_per_round</th>\n",
       "      <th>first_funding_at_year</th>\n",
       "      <th>last_funding_at_year</th>\n",
       "      <th>main_category</th>\n",
       "    </tr>\n",
       "  </thead>\n",
       "  <tbody>\n",
       "    <tr>\n",
       "      <th>funding_total_usd</th>\n",
       "      <td>1.000000</td>\n",
       "      <td>0.000000</td>\n",
       "      <td>0.000000</td>\n",
       "      <td>0.000000</td>\n",
       "      <td>0.000000</td>\n",
       "      <td>0.000000</td>\n",
       "      <td>0.324087</td>\n",
       "      <td>0.103176</td>\n",
       "      <td>0.819290</td>\n",
       "      <td>0.108575</td>\n",
       "      <td>0.055955</td>\n",
       "      <td>0.000000</td>\n",
       "    </tr>\n",
       "    <tr>\n",
       "      <th>status</th>\n",
       "      <td>0.000000</td>\n",
       "      <td>1.000000</td>\n",
       "      <td>0.124833</td>\n",
       "      <td>0.114905</td>\n",
       "      <td>0.131156</td>\n",
       "      <td>0.039585</td>\n",
       "      <td>0.100557</td>\n",
       "      <td>0.535217</td>\n",
       "      <td>0.000000</td>\n",
       "      <td>0.205714</td>\n",
       "      <td>0.258342</td>\n",
       "      <td>0.159507</td>\n",
       "    </tr>\n",
       "    <tr>\n",
       "      <th>country_code</th>\n",
       "      <td>0.000000</td>\n",
       "      <td>0.124833</td>\n",
       "      <td>1.000000</td>\n",
       "      <td>0.993440</td>\n",
       "      <td>1.000000</td>\n",
       "      <td>0.999994</td>\n",
       "      <td>0.000000</td>\n",
       "      <td>0.190580</td>\n",
       "      <td>0.000000</td>\n",
       "      <td>0.130868</td>\n",
       "      <td>0.049224</td>\n",
       "      <td>0.702137</td>\n",
       "    </tr>\n",
       "    <tr>\n",
       "      <th>state_code</th>\n",
       "      <td>0.000000</td>\n",
       "      <td>0.114905</td>\n",
       "      <td>0.993440</td>\n",
       "      <td>1.000000</td>\n",
       "      <td>0.999927</td>\n",
       "      <td>0.999991</td>\n",
       "      <td>0.000000</td>\n",
       "      <td>0.254898</td>\n",
       "      <td>0.000000</td>\n",
       "      <td>0.000000</td>\n",
       "      <td>0.000000</td>\n",
       "      <td>0.661142</td>\n",
       "    </tr>\n",
       "    <tr>\n",
       "      <th>region</th>\n",
       "      <td>0.000000</td>\n",
       "      <td>0.131156</td>\n",
       "      <td>1.000000</td>\n",
       "      <td>0.999927</td>\n",
       "      <td>1.000000</td>\n",
       "      <td>1.000000</td>\n",
       "      <td>0.000000</td>\n",
       "      <td>0.351176</td>\n",
       "      <td>0.181669</td>\n",
       "      <td>0.000000</td>\n",
       "      <td>0.000000</td>\n",
       "      <td>0.797242</td>\n",
       "    </tr>\n",
       "    <tr>\n",
       "      <th>city</th>\n",
       "      <td>0.000000</td>\n",
       "      <td>0.039585</td>\n",
       "      <td>0.999994</td>\n",
       "      <td>0.999991</td>\n",
       "      <td>1.000000</td>\n",
       "      <td>1.000000</td>\n",
       "      <td>0.000000</td>\n",
       "      <td>0.646064</td>\n",
       "      <td>0.000000</td>\n",
       "      <td>0.574932</td>\n",
       "      <td>0.663172</td>\n",
       "      <td>0.860708</td>\n",
       "    </tr>\n",
       "    <tr>\n",
       "      <th>funding_rounds</th>\n",
       "      <td>0.324087</td>\n",
       "      <td>0.100557</td>\n",
       "      <td>0.000000</td>\n",
       "      <td>0.000000</td>\n",
       "      <td>0.000000</td>\n",
       "      <td>0.000000</td>\n",
       "      <td>1.000000</td>\n",
       "      <td>0.227475</td>\n",
       "      <td>0.000000</td>\n",
       "      <td>0.297841</td>\n",
       "      <td>0.162759</td>\n",
       "      <td>0.000000</td>\n",
       "    </tr>\n",
       "    <tr>\n",
       "      <th>lifetime</th>\n",
       "      <td>0.103176</td>\n",
       "      <td>0.535217</td>\n",
       "      <td>0.190580</td>\n",
       "      <td>0.254898</td>\n",
       "      <td>0.351176</td>\n",
       "      <td>0.646064</td>\n",
       "      <td>0.227475</td>\n",
       "      <td>1.000000</td>\n",
       "      <td>0.067375</td>\n",
       "      <td>0.688386</td>\n",
       "      <td>0.583075</td>\n",
       "      <td>0.370182</td>\n",
       "    </tr>\n",
       "    <tr>\n",
       "      <th>funding_per_round</th>\n",
       "      <td>0.819290</td>\n",
       "      <td>0.000000</td>\n",
       "      <td>0.000000</td>\n",
       "      <td>0.000000</td>\n",
       "      <td>0.181669</td>\n",
       "      <td>0.000000</td>\n",
       "      <td>0.000000</td>\n",
       "      <td>0.067375</td>\n",
       "      <td>1.000000</td>\n",
       "      <td>0.170109</td>\n",
       "      <td>0.060221</td>\n",
       "      <td>0.135750</td>\n",
       "    </tr>\n",
       "    <tr>\n",
       "      <th>first_funding_at_year</th>\n",
       "      <td>0.108575</td>\n",
       "      <td>0.205714</td>\n",
       "      <td>0.130868</td>\n",
       "      <td>0.000000</td>\n",
       "      <td>0.000000</td>\n",
       "      <td>0.574932</td>\n",
       "      <td>0.297841</td>\n",
       "      <td>0.688386</td>\n",
       "      <td>0.170109</td>\n",
       "      <td>1.000000</td>\n",
       "      <td>0.998388</td>\n",
       "      <td>0.439407</td>\n",
       "    </tr>\n",
       "    <tr>\n",
       "      <th>last_funding_at_year</th>\n",
       "      <td>0.055955</td>\n",
       "      <td>0.258342</td>\n",
       "      <td>0.049224</td>\n",
       "      <td>0.000000</td>\n",
       "      <td>0.000000</td>\n",
       "      <td>0.663172</td>\n",
       "      <td>0.162759</td>\n",
       "      <td>0.583075</td>\n",
       "      <td>0.060221</td>\n",
       "      <td>0.998388</td>\n",
       "      <td>1.000000</td>\n",
       "      <td>0.396815</td>\n",
       "    </tr>\n",
       "    <tr>\n",
       "      <th>main_category</th>\n",
       "      <td>0.000000</td>\n",
       "      <td>0.159507</td>\n",
       "      <td>0.702137</td>\n",
       "      <td>0.661142</td>\n",
       "      <td>0.797242</td>\n",
       "      <td>0.860708</td>\n",
       "      <td>0.000000</td>\n",
       "      <td>0.370182</td>\n",
       "      <td>0.135750</td>\n",
       "      <td>0.439407</td>\n",
       "      <td>0.396815</td>\n",
       "      <td>1.000000</td>\n",
       "    </tr>\n",
       "  </tbody>\n",
       "</table>\n",
       "</div>"
      ],
      "text/plain": [
       "                       funding_total_usd    status  country_code  state_code  \\\n",
       "funding_total_usd               1.000000  0.000000      0.000000    0.000000   \n",
       "status                          0.000000  1.000000      0.124833    0.114905   \n",
       "country_code                    0.000000  0.124833      1.000000    0.993440   \n",
       "state_code                      0.000000  0.114905      0.993440    1.000000   \n",
       "region                          0.000000  0.131156      1.000000    0.999927   \n",
       "city                            0.000000  0.039585      0.999994    0.999991   \n",
       "funding_rounds                  0.324087  0.100557      0.000000    0.000000   \n",
       "lifetime                        0.103176  0.535217      0.190580    0.254898   \n",
       "funding_per_round               0.819290  0.000000      0.000000    0.000000   \n",
       "first_funding_at_year           0.108575  0.205714      0.130868    0.000000   \n",
       "last_funding_at_year            0.055955  0.258342      0.049224    0.000000   \n",
       "main_category                   0.000000  0.159507      0.702137    0.661142   \n",
       "\n",
       "                         region      city  funding_rounds  lifetime  \\\n",
       "funding_total_usd      0.000000  0.000000        0.324087  0.103176   \n",
       "status                 0.131156  0.039585        0.100557  0.535217   \n",
       "country_code           1.000000  0.999994        0.000000  0.190580   \n",
       "state_code             0.999927  0.999991        0.000000  0.254898   \n",
       "region                 1.000000  1.000000        0.000000  0.351176   \n",
       "city                   1.000000  1.000000        0.000000  0.646064   \n",
       "funding_rounds         0.000000  0.000000        1.000000  0.227475   \n",
       "lifetime               0.351176  0.646064        0.227475  1.000000   \n",
       "funding_per_round      0.181669  0.000000        0.000000  0.067375   \n",
       "first_funding_at_year  0.000000  0.574932        0.297841  0.688386   \n",
       "last_funding_at_year   0.000000  0.663172        0.162759  0.583075   \n",
       "main_category          0.797242  0.860708        0.000000  0.370182   \n",
       "\n",
       "                       funding_per_round  first_funding_at_year  \\\n",
       "funding_total_usd               0.819290               0.108575   \n",
       "status                          0.000000               0.205714   \n",
       "country_code                    0.000000               0.130868   \n",
       "state_code                      0.000000               0.000000   \n",
       "region                          0.181669               0.000000   \n",
       "city                            0.000000               0.574932   \n",
       "funding_rounds                  0.000000               0.297841   \n",
       "lifetime                        0.067375               0.688386   \n",
       "funding_per_round               1.000000               0.170109   \n",
       "first_funding_at_year           0.170109               1.000000   \n",
       "last_funding_at_year            0.060221               0.998388   \n",
       "main_category                   0.135750               0.439407   \n",
       "\n",
       "                       last_funding_at_year  main_category  \n",
       "funding_total_usd                  0.055955       0.000000  \n",
       "status                             0.258342       0.159507  \n",
       "country_code                       0.049224       0.702137  \n",
       "state_code                         0.000000       0.661142  \n",
       "region                             0.000000       0.797242  \n",
       "city                               0.663172       0.860708  \n",
       "funding_rounds                     0.162759       0.000000  \n",
       "lifetime                           0.583075       0.370182  \n",
       "funding_per_round                  0.060221       0.135750  \n",
       "first_funding_at_year              0.998388       0.439407  \n",
       "last_funding_at_year               1.000000       0.396815  \n",
       "main_category                      0.396815       1.000000  "
      ]
     },
     "execution_count": 10,
     "metadata": {},
     "output_type": "execute_result"
    }
   ],
   "source": [
    "train_data.drop(\n",
    "    ['first_funding_at', 'last_funding_at', 'closed_at', 'founded_at', 'name', 'category_list'], axis=1\n",
    ").phik_matrix(\n",
    "    interval_cols=['funding_total_usd', 'funding_per_round', 'lifetime']\n",
    ")"
   ]
  },
  {
   "cell_type": "code",
   "execution_count": 11,
   "id": "73544311-bb6b-41e2-a986-f9c42c12e4f8",
   "metadata": {},
   "outputs": [
    {
     "name": "stderr",
     "output_type": "stream",
     "text": [
      "C:\\Users\\vault\\anaconda3\\Lib\\site-packages\\seaborn\\_oldcore.py:1119: FutureWarning: use_inf_as_na option is deprecated and will be removed in a future version. Convert inf values to NaN before operating instead.\n",
      "  with pd.option_context('mode.use_inf_as_na', True):\n"
     ]
    },
    {
     "data": {
      "text/plain": [
       "<Axes: title={'center': 'funding_total_usd'}, xlabel='funding_total_usd', ylabel='Count'>"
      ]
     },
     "metadata": {},
     "output_type": "display_data"
    },
    {
     "data": {
      "image/png": "[encoded data removed]",
      "text/plain": [
       "<Figure size 640x480 with 1 Axes>"
      ]
     },
     "metadata": {},
     "output_type": "display_data"
    },
    {
     "name": "stderr",
     "output_type": "stream",
     "text": [
      "C:\\Users\\vault\\anaconda3\\Lib\\site-packages\\seaborn\\_oldcore.py:1119: FutureWarning: use_inf_as_na option is deprecated and will be removed in a future version. Convert inf values to NaN before operating instead.\n",
      "  with pd.option_context('mode.use_inf_as_na', True):\n"
     ]
    },
    {
     "data": {
      "text/plain": [
       "<Axes: title={'center': 'funding_per_round'}, xlabel='funding_per_round', ylabel='Count'>"
      ]
     },
     "metadata": {},
     "output_type": "display_data"
    },
    {
     "data": {
      "image/png": "[encoded data removed]",
      "text/plain": [
       "<Figure size 640x480 with 1 Axes>"
      ]
     },
     "metadata": {},
     "output_type": "display_data"
    }
   ],
   "source": [
    "num_columns = ['funding_total_usd', 'funding_per_round']\n",
    "\n",
    "for column in num_columns:\n",
    "    plt.title(column)\n",
    "    display(\n",
    "        sns.histplot(\n",
    "            x=train_data[column],\n",
    "            hue=train_data['status'],\n",
    "        )\n",
    "    )\n",
    "    plt.ylim(0, 2000)\n",
    "    plt.xlim(0, 5000000)\n",
    "    plt.show()"
   ]
  },
  {
   "cell_type": "markdown",
   "id": "8102ef50-f3bd-4c11-a49b-c4d38669bcc7",
   "metadata": {},
   "source": [
    "## Формирование пайплайнов"
   ]
  },
  {
   "cell_type": "code",
   "execution_count": 12,
   "id": "77ed3921-6d46-42ed-8f54-81b92ca7d8b2",
   "metadata": {},
   "outputs": [],
   "source": [
    "ord_columns = ['main_category', 'region']\n",
    "num_columns = ['lifetime', 'funding_per_round']\n",
    "\n",
    "data_preprocessor = ColumnTransformer([\n",
    "    ('num', StandardScaler(), num_columns),\n",
    "])"
   ]
  },
  {
   "cell_type": "code",
   "execution_count": 13,
   "id": "cbd7eade-f9d2-48a4-84af-95f719facd13",
   "metadata": {},
   "outputs": [],
   "source": [
    "RANDOM_STATE = 42\n",
    "\n",
    "pipeline = Pipeline([\n",
    "    ('preprocessor', data_preprocessor),\n",
    "    ('models', GradientBoostingClassifier(random_state=RANDOM_STATE))\n",
    "])\n",
    "\n",
    "param_grid = [\n",
    "    {\n",
    "        'models': [KNeighborsClassifier()],\n",
    "        'models__n_neighbors': range(2, 111),\n",
    "        'preprocessor__num': [StandardScaler(), MinMaxScaler(), 'passthrough'],\n",
    "    },\n",
    "    {\n",
    "        'models': [LogisticRegression(random_state=RANDOM_STATE)],\n",
    "        'models__penalty': ['l1', 'l2'],\n",
    "        'preprocessor__num': [StandardScaler(), MinMaxScaler(), 'passthrough'],\n",
    "    },\n",
    "    {\n",
    "        'models': [SVC(random_state=RANDOM_STATE, probability=True)],\n",
    "        'models__kernel': ['linear', 'rbf', 'precomputed'],\n",
    "        'preprocessor__num': [StandardScaler(), MinMaxScaler(), 'passthrough'],\n",
    "    },\n",
    "    {\n",
    "        'models': [DecisionTreeClassifier(random_state=RANDOM_STATE)],\n",
    "        'models__max_depth': range(2, 10),\n",
    "        'models__min_samples_split': range(2, 10),\n",
    "        'models__min_samples_leaf': range(2, 10),\n",
    "        'preprocessor__num': [StandardScaler(), MinMaxScaler(), 'passthrough'],\n",
    "    },\n",
    "    {\n",
    "        'models': [RandomForestClassifier(random_state=RANDOM_STATE)],\n",
    "        'models__max_depth': range(2, 10),\n",
    "        'models__min_samples_split': range(2, 10),\n",
    "        'models__min_samples_leaf': range(2, 10),\n",
    "        'preprocessor__num': [StandardScaler(), MinMaxScaler(), 'passthrough'],\n",
    "    },\n",
    "    {\n",
    "        'models': [GradientBoostingClassifier(random_state=RANDOM_STATE)],\n",
    "        'models__loss': ['log_loss', 'exponential'],\n",
    "        'models__max_depth': range(2, 10),\n",
    "        'models__min_samples_split': range(2, 10),\n",
    "        'models__min_samples_leaf': range(2, 10),\n",
    "        'models__criterion': ['friedman_mse', 'squared_error'],\n",
    "        'preprocessor__num': [StandardScaler(), MinMaxScaler(), 'passthrough'],\n",
    "    }\n",
    "]"
   ]
  },
  {
   "cell_type": "code",
   "execution_count": 14,
   "id": "ba8dc91f-f176-408d-bacf-e838cf72bca9",
   "metadata": {},
   "outputs": [],
   "source": [
    "classifier = RandomizedSearchCV(\n",
    "    pipeline,\n",
    "    param_grid,\n",
    "    cv=5,\n",
    "    scoring='f1',\n",
    "    random_state=RANDOM_STATE,\n",
    "    n_jobs=-1,\n",
    ")"
   ]
  },
  {
   "cell_type": "markdown",
   "id": "e5a418a4-64ea-4c24-96a4-71028728f46b",
   "metadata": {},
   "source": [
    "## Подготовка данных для обучения модели"
   ]
  },
  {
   "cell_type": "code",
   "execution_count": 15,
   "id": "a5f4b306-6c3e-4843-8ee9-ff785cede8e4",
   "metadata": {},
   "outputs": [],
   "source": [
    "X_columns = [\n",
    "    'main_category',\n",
    "    'funding_per_round',\n",
    "    'first_funding_at_year',\n",
    "    'last_funding_at_year',\n",
    "    'region', 'lifetime'\n",
    "]\n",
    "y_column = 'status'"
   ]
  },
  {
   "cell_type": "code",
   "execution_count": 16,
   "id": "56230beb-3996-4f78-afb4-bd011862401b",
   "metadata": {},
   "outputs": [],
   "source": [
    "train_data = train_data[X_columns + [y_column]].drop_duplicates()\n",
    "X = train_data[X_columns]"
   ]
  },
  {
   "cell_type": "code",
   "execution_count": 17,
   "id": "b70b68b9-ed24-4577-be08-4a2d3bc4c46f",
   "metadata": {},
   "outputs": [
    {
     "data": {
      "text/plain": [
       "array([1, 1, 1, ..., 1, 1, 1])"
      ]
     },
     "execution_count": 17,
     "metadata": {},
     "output_type": "execute_result"
    }
   ],
   "source": [
    "label_encoder = LabelEncoder()\n",
    "y = label_encoder.fit_transform(train_data[y_column])\n",
    "y"
   ]
  },
  {
   "cell_type": "code",
   "execution_count": 18,
   "id": "c4a6e1ce-f756-4cf5-8188-6daa946eac12",
   "metadata": {},
   "outputs": [
    {
     "name": "stdout",
     "output_type": "stream",
     "text": [
      "Лучшая модель и ее параметры: Pipeline(steps=[('preprocessor',\n",
      "                 ColumnTransformer(transformers=[('num', MinMaxScaler(),\n",
      "                                                  ['lifetime',\n",
      "                                                   'funding_per_round'])])),\n",
      "                ('models',\n",
      "                 GradientBoostingClassifier(loss='exponential', max_depth=5,\n",
      "                                            min_samples_leaf=4,\n",
      "                                            min_samples_split=3,\n",
      "                                            random_state=42))])\n",
      "f1 лучшей модели на кросс-валидации: 0.9738439961349948\n"
     ]
    }
   ],
   "source": [
    "classifier.fit(X, y)\n",
    "\n",
    "print(f'Лучшая модель и ее параметры: {classifier.best_estimator_}')\n",
    "print(f'f1 лучшей модели на кросс-валидации: {classifier.best_score_}')"
   ]
  },
  {
   "cell_type": "markdown",
   "id": "47f2e136-2c20-40b2-b67f-faa2c615aa94",
   "metadata": {},
   "source": [
    "## Тестирование модели"
   ]
  },
  {
   "cell_type": "code",
   "execution_count": 19,
   "id": "29fd3e25-bd54-4cfb-bbd0-729490196d6d",
   "metadata": {},
   "outputs": [
    {
     "data": {
      "text/plain": [
       "array([1, 1, 1, ..., 1, 1, 1])"
      ]
     },
     "execution_count": 19,
     "metadata": {},
     "output_type": "execute_result"
    }
   ],
   "source": [
    "test_data = data_preprocessing(test_data)\n",
    "test_data = calc_new_features(test_data)\n",
    "y_predict = classifier.predict(test_data)\n",
    "y_predict"
   ]
  },
  {
   "cell_type": "code",
   "execution_count": 20,
   "id": "849547b5-9b26-466b-85d2-5ada82eaf9f9",
   "metadata": {},
   "outputs": [
    {
     "name": "stdout",
     "output_type": "stream",
     "text": [
      "<class 'pandas.core.frame.DataFrame'>\n",
      "Index: 13125 entries, Crystalsol to RingCentral\n",
      "Data columns (total 1 columns):\n",
      " #   Column  Non-Null Count  Dtype \n",
      "---  ------  --------------  ----- \n",
      " 0   status  13125 non-null  object\n",
      "dtypes: object(1)\n",
      "memory usage: 205.1+ KB\n"
     ]
    }
   ],
   "source": [
    "encoded_labels = label_encoder.inverse_transform(y_predict)\n",
    "result = pd.DataFrame({\n",
    "    'name': test_data['name'],\n",
    "    'status': encoded_labels\n",
    "})\n",
    "result.set_index('name', inplace=True)\n",
    "result.info()"
   ]
  },
  {
   "cell_type": "code",
   "execution_count": 21,
   "id": "03a89b1a-c3c2-49e9-a0d8-0f26c48f0fc8",
   "metadata": {},
   "outputs": [],
   "source": [
    "result.to_csv('solobuto_kaggle_startups.csv')"
   ]
  },
  {
   "cell_type": "markdown",
   "id": "068630c2-b750-4992-845c-40f5443b55e5",
   "metadata": {},
   "source": [
    "## V2"
   ]
  },
  {
   "cell_type": "code",
   "execution_count": 22,
   "id": "9ded0e73-222c-4452-b579-abbb3822c602",
   "metadata": {},
   "outputs": [
    {
     "name": "stderr",
     "output_type": "stream",
     "text": [
      "C:\\Users\\vault\\anaconda3\\Lib\\site-packages\\optuna\\distributions.py:524: UserWarning: Choices for a categorical distribution should be a tuple of None, bool, int, float and str for persistent storage but contains StandardScaler() which is of type StandardScaler.\n",
      "  warnings.warn(message)\n",
      "C:\\Users\\vault\\anaconda3\\Lib\\site-packages\\optuna\\distributions.py:524: UserWarning: Choices for a categorical distribution should be a tuple of None, bool, int, float and str for persistent storage but contains MinMaxScaler() which is of type MinMaxScaler.\n",
      "  warnings.warn(message)\n"
     ]
    }
   ],
   "source": [
    "param_grid = {\n",
    "    'models__loss': distributions.CategoricalDistribution(('log_loss', 'exponential')),\n",
    "    'models__max_depth': distributions.IntDistribution(2, 10),\n",
    "    'models__min_samples_split': distributions.IntDistribution(2, 10),\n",
    "    'models__min_samples_leaf': distributions.IntDistribution(2, 10),\n",
    "    'models__criterion': distributions.CategoricalDistribution(('friedman_mse', 'squared_error')),\n",
    "    'preprocessor__num': distributions.CategoricalDistribution((StandardScaler(), MinMaxScaler(), 'passthrough')),\n",
    "}"
   ]
  },
  {
   "cell_type": "code",
   "execution_count": 23,
   "id": "1f608ce4-cb6d-46ca-a6ce-7f3ffe106f5b",
   "metadata": {},
   "outputs": [
    {
     "name": "stderr",
     "output_type": "stream",
     "text": [
      "C:\\Users\\vault\\AppData\\Local\\Temp\\ipykernel_24556\\1378919119.py:1: ExperimentalWarning: OptunaSearchCV is experimental (supported from v0.17.0). The interface can change in the future.\n",
      "  optuna_classifier = OptunaSearchCV(\n"
     ]
    }
   ],
   "source": [
    "optuna_classifier = OptunaSearchCV(\n",
    "    pipeline,\n",
    "    param_grid,\n",
    "    cv=5,\n",
    "    scoring='f1',\n",
    "    random_state=RANDOM_STATE,\n",
    "    n_jobs=-1,\n",
    "    n_trials=20,\n",
    ")"
   ]
  },
  {
   "cell_type": "code",
   "execution_count": 24,
   "id": "d2c84823-deb5-46ce-a6d2-b55dcd5126dc",
   "metadata": {},
   "outputs": [
    {
     "name": "stderr",
     "output_type": "stream",
     "text": [
      "[I 2024-12-22 13:58:47,998] A new study created in memory with name: no-name-73651945-ec92-4d64-b4d9-0f7162c86d3e\n",
      "[I 2024-12-22 13:59:11,480] Trial 0 finished with value: 0.9729548306277938 and parameters: {'models__loss': 'log_loss', 'models__max_depth': 2, 'models__min_samples_split': 2, 'models__min_samples_leaf': 10, 'models__criterion': 'friedman_mse', 'preprocessor__num': 'passthrough'}. Best is trial 0 with value: 0.9729548306277938.\n",
      "[I 2024-12-22 13:59:20,796] Trial 1 finished with value: 0.9735183803580167 and parameters: {'models__loss': 'log_loss', 'models__max_depth': 3, 'models__min_samples_split': 6, 'models__min_samples_leaf': 4, 'models__criterion': 'squared_error', 'preprocessor__num': MinMaxScaler()}. Best is trial 1 with value: 0.9735183803580167.\n",
      "[I 2024-12-22 13:59:23,069] Trial 2 finished with value: 0.97310352792051 and parameters: {'models__loss': 'exponential', 'models__max_depth': 3, 'models__min_samples_split': 3, 'models__min_samples_leaf': 9, 'models__criterion': 'friedman_mse', 'preprocessor__num': MinMaxScaler()}. Best is trial 1 with value: 0.9735183803580167.\n",
      "[I 2024-12-22 13:59:23,704] Trial 15 finished with value: 0.9735264057628579 and parameters: {'models__loss': 'log_loss', 'models__max_depth': 3, 'models__min_samples_split': 2, 'models__min_samples_leaf': 2, 'models__criterion': 'friedman_mse', 'preprocessor__num': StandardScaler()}. Best is trial 15 with value: 0.9735264057628579.\n",
      "[I 2024-12-22 13:59:53,440] Trial 19 finished with value: 0.9728551550047968 and parameters: {'models__loss': 'exponential', 'models__max_depth': 2, 'models__min_samples_split': 9, 'models__min_samples_leaf': 10, 'models__criterion': 'friedman_mse', 'preprocessor__num': MinMaxScaler()}. Best is trial 15 with value: 0.9735264057628579.\n",
      "[I 2024-12-22 14:00:09,569] Trial 14 finished with value: 0.9736773593114609 and parameters: {'models__loss': 'exponential', 'models__max_depth': 6, 'models__min_samples_split': 8, 'models__min_samples_leaf': 2, 'models__criterion': 'squared_error', 'preprocessor__num': MinMaxScaler()}. Best is trial 14 with value: 0.9736773593114609.\n",
      "[I 2024-12-22 14:00:11,291] Trial 5 finished with value: 0.9735314774322715 and parameters: {'models__loss': 'log_loss', 'models__max_depth': 6, 'models__min_samples_split': 9, 'models__min_samples_leaf': 4, 'models__criterion': 'squared_error', 'preprocessor__num': 'passthrough'}. Best is trial 14 with value: 0.9736773593114609.\n",
      "[I 2024-12-22 14:00:11,698] Trial 3 finished with value: 0.9739351197754289 and parameters: {'models__loss': 'exponential', 'models__max_depth': 6, 'models__min_samples_split': 9, 'models__min_samples_leaf': 9, 'models__criterion': 'squared_error', 'preprocessor__num': 'passthrough'}. Best is trial 3 with value: 0.9739351197754289.\n",
      "[I 2024-12-22 14:00:11,727] Trial 9 finished with value: 0.9736005078345021 and parameters: {'models__loss': 'log_loss', 'models__max_depth': 6, 'models__min_samples_split': 9, 'models__min_samples_leaf': 2, 'models__criterion': 'friedman_mse', 'preprocessor__num': StandardScaler()}. Best is trial 3 with value: 0.9739351197754289.\n",
      "[I 2024-12-22 14:00:15,483] Trial 13 finished with value: 0.9737140744071813 and parameters: {'models__loss': 'exponential', 'models__max_depth': 6, 'models__min_samples_split': 3, 'models__min_samples_leaf': 2, 'models__criterion': 'squared_error', 'preprocessor__num': StandardScaler()}. Best is trial 3 with value: 0.9739351197754289.\n",
      "[I 2024-12-22 14:00:21,059] Trial 11 finished with value: 0.9736709682035226 and parameters: {'models__loss': 'exponential', 'models__max_depth': 7, 'models__min_samples_split': 9, 'models__min_samples_leaf': 10, 'models__criterion': 'squared_error', 'preprocessor__num': MinMaxScaler()}. Best is trial 3 with value: 0.9739351197754289.\n",
      "[I 2024-12-22 14:00:25,355] Trial 8 finished with value: 0.9736413815488799 and parameters: {'models__loss': 'exponential', 'models__max_depth': 7, 'models__min_samples_split': 5, 'models__min_samples_leaf': 4, 'models__criterion': 'friedman_mse', 'preprocessor__num': MinMaxScaler()}. Best is trial 3 with value: 0.9739351197754289.\n",
      "[I 2024-12-22 14:00:35,403] Trial 10 finished with value: 0.9735340007828374 and parameters: {'models__loss': 'exponential', 'models__max_depth': 8, 'models__min_samples_split': 6, 'models__min_samples_leaf': 7, 'models__criterion': 'friedman_mse', 'preprocessor__num': MinMaxScaler()}. Best is trial 3 with value: 0.9739351197754289.\n",
      "[I 2024-12-22 14:00:35,499] Trial 17 finished with value: 0.9736753667071886 and parameters: {'models__loss': 'log_loss', 'models__max_depth': 6, 'models__min_samples_split': 9, 'models__min_samples_leaf': 5, 'models__criterion': 'squared_error', 'preprocessor__num': StandardScaler()}. Best is trial 3 with value: 0.9739351197754289.\n",
      "[I 2024-12-22 14:00:39,428] Trial 12 finished with value: 0.9728854328603725 and parameters: {'models__loss': 'log_loss', 'models__max_depth': 8, 'models__min_samples_split': 5, 'models__min_samples_leaf': 2, 'models__criterion': 'friedman_mse', 'preprocessor__num': StandardScaler()}. Best is trial 3 with value: 0.9739351197754289.\n",
      "[I 2024-12-22 14:00:44,380] Trial 4 finished with value: 0.9727221736577893 and parameters: {'models__loss': 'log_loss', 'models__max_depth': 9, 'models__min_samples_split': 7, 'models__min_samples_leaf': 2, 'models__criterion': 'friedman_mse', 'preprocessor__num': MinMaxScaler()}. Best is trial 3 with value: 0.9739351197754289.\n",
      "[I 2024-12-22 14:00:46,810] Trial 18 finished with value: 0.9735820574755687 and parameters: {'models__loss': 'log_loss', 'models__max_depth': 7, 'models__min_samples_split': 6, 'models__min_samples_leaf': 2, 'models__criterion': 'friedman_mse', 'preprocessor__num': 'passthrough'}. Best is trial 3 with value: 0.9739351197754289.\n",
      "[I 2024-12-22 14:00:47,586] Trial 6 finished with value: 0.9727958251624191 and parameters: {'models__loss': 'log_loss', 'models__max_depth': 9, 'models__min_samples_split': 9, 'models__min_samples_leaf': 5, 'models__criterion': 'friedman_mse', 'preprocessor__num': StandardScaler()}. Best is trial 3 with value: 0.9739351197754289.\n",
      "[I 2024-12-22 14:00:53,439] Trial 16 finished with value: 0.9735339240346368 and parameters: {'models__loss': 'exponential', 'models__max_depth': 9, 'models__min_samples_split': 10, 'models__min_samples_leaf': 7, 'models__criterion': 'friedman_mse', 'preprocessor__num': MinMaxScaler()}. Best is trial 3 with value: 0.9739351197754289.\n",
      "[I 2024-12-22 14:00:55,776] Trial 7 finished with value: 0.972349680553711 and parameters: {'models__loss': 'log_loss', 'models__max_depth': 10, 'models__min_samples_split': 8, 'models__min_samples_leaf': 5, 'models__criterion': 'squared_error', 'preprocessor__num': StandardScaler()}. Best is trial 3 with value: 0.9739351197754289.\n"
     ]
    },
    {
     "name": "stdout",
     "output_type": "stream",
     "text": [
      "Лучшая модель и ее параметры: Pipeline(steps=[('preprocessor',\n",
      "                 ColumnTransformer(transformers=[('num', 'passthrough',\n",
      "                                                  ['lifetime',\n",
      "                                                   'funding_per_round'])])),\n",
      "                ('models',\n",
      "                 GradientBoostingClassifier(criterion='squared_error',\n",
      "                                            loss='exponential', max_depth=6,\n",
      "                                            min_samples_leaf=9,\n",
      "                                            min_samples_split=9,\n",
      "                                            random_state=42))])\n",
      "f1 лучшей модели на кросс-валидации: 0.9739351197754289\n"
     ]
    }
   ],
   "source": [
    "optuna_classifier.fit(X, y)\n",
    "\n",
    "print(f'Лучшая модель и ее параметры: {optuna_classifier.best_estimator_}')\n",
    "print(f'f1 лучшей модели на кросс-валидации: {optuna_classifier.best_score_}')"
   ]
  },
  {
   "cell_type": "code",
   "execution_count": 25,
   "id": "1cf95b92-5a96-4e52-94ac-93da302d0212",
   "metadata": {},
   "outputs": [
    {
     "data": {
      "text/plain": [
       "array([1, 1, 1, ..., 1, 1, 1])"
      ]
     },
     "execution_count": 25,
     "metadata": {},
     "output_type": "execute_result"
    }
   ],
   "source": [
    "y_predict = optuna_classifier.predict(test_data)\n",
    "y_predict"
   ]
  },
  {
   "cell_type": "code",
   "execution_count": 26,
   "id": "0a9b5066-3a20-4640-a56d-e62fda337614",
   "metadata": {},
   "outputs": [
    {
     "name": "stdout",
     "output_type": "stream",
     "text": [
      "<class 'pandas.core.frame.DataFrame'>\n",
      "Index: 13125 entries, Crystalsol to RingCentral\n",
      "Data columns (total 1 columns):\n",
      " #   Column  Non-Null Count  Dtype \n",
      "---  ------  --------------  ----- \n",
      " 0   status  13125 non-null  object\n",
      "dtypes: object(1)\n",
      "memory usage: 205.1+ KB\n"
     ]
    }
   ],
   "source": [
    "encoded_labels = label_encoder.inverse_transform(y_predict)\n",
    "result = pd.DataFrame({\n",
    "    'name': test_data['name'],\n",
    "    'status': encoded_labels\n",
    "})\n",
    "result.set_index('name', inplace=True)\n",
    "result.info()"
   ]
  },
  {
   "cell_type": "code",
   "execution_count": 27,
   "id": "666201fb-9f6a-48b2-88cd-e561c844cee1",
   "metadata": {},
   "outputs": [],
   "source": [
    "result.to_csv('solobuto_kaggle_startups.csv')"
   ]
  },
  {
   "cell_type": "code",
   "execution_count": null,
   "id": "ef835544-3791-4b24-b9e8-eba5c369b13d",
   "metadata": {},
   "outputs": [],
   "source": []
  }
 ],
 "metadata": {
  "kernelspec": {
   "display_name": "Python 3 (ipykernel)",
   "language": "python",
   "name": "python3"
  },
  "language_info": {
   "codemirror_mode": {
    "name": "ipython",
    "version": 3
   },
   "file_extension": ".py",
   "mimetype": "text/x-python",
   "name": "python",
   "nbconvert_exporter": "python",
   "pygments_lexer": "ipython3",
   "version": "3.11.7"
  }
 },
 "nbformat": 4,
 "nbformat_minor": 5
}
